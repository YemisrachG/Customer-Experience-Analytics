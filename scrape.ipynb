{
 "cells": [
  {
   "cell_type": "code",
   "execution_count": 4,
   "id": "0588a9c3-3351-45b3-a769-e7087696848a",
   "metadata": {},
   "outputs": [
    {
     "name": "stdout",
     "output_type": "stream",
     "text": [
      "✅ stored 400 reviews to notebooks/data\\CBE_reviews_20250608_142541.csv\n",
      "✅ Cleaned data saved  CBE: 321 records\n",
      "✅ stored 400 reviews to notebooks/data\\BOA_reviews_20250608_142542.csv\n",
      "✅ Cleaned data saved  BOA: 344 records\n",
      "✅ stored 400 reviews to notebooks/data\\Dashen_reviews_20250608_142544.csv\n",
      "✅ Cleaned data saved  Dashen: 366 records\n"
     ]
    }
   ],
   "source": [
    "import csv\n",
    "from datetime import datetime\n",
    "from google_play_scraper import reviews, Sort\n",
    "import os\n",
    "import pandas as pd\n",
    "\n",
    "os.chdir(r\"C:\\Wk 2 Mobile Banking App Review Analysis\\Customer-Experience-Analytics\")\n",
    "DATA_DIR = 'notebooks/data'\n",
    "os.makedirs(DATA_DIR, exist_ok=True)  \n",
    "\n",
    "def scrape_play_store_reviews(app_id, bank_name):\n",
    "    results, _ = reviews(\n",
    "        app_id,\n",
    "        lang='en',\n",
    "        country='us',\n",
    "        sort=Sort.NEWEST,\n",
    "        count=400\n",
    "    )\n",
    "\n",
    "    timestamp = datetime.now().strftime('%Y%m%d_%H%M%S')\n",
    "    filename = os.path.join(DATA_DIR, f'{bank_name}_reviews_{timestamp}.csv')\n",
    "\n",
    "    with open(filename, mode='w', newline='', encoding='utf-8') as file:\n",
    "        writer = csv.DictWriter(file, fieldnames=['review_text', 'rating', 'date', 'bank_name', 'source'])\n",
    "        writer.writeheader()\n",
    "\n",
    "        for entry in results:\n",
    "            writer.writerow({\n",
    "                'review_text': entry['content'],\n",
    "                'rating': entry['score'],\n",
    "                'date': entry['at'].strftime('%Y-%m-%d'),\n",
    "                'bank_name': bank_name,\n",
    "                'source': 'Google Play'\n",
    "            })\n",
    "\n",
    "    print(f\"✅ stored {len(results)} reviews to {filename}\")\n",
    "    return filename  \n",
    "\n",
    "def preprocess_reviews(file_path):\n",
    "    df = pd.read_csv(file_path)\n",
    "\n",
    "    # Remove duplicates\n",
    "    df = df.drop_duplicates(subset=['review_text'])\n",
    "\n",
    "    # Handle missing data\n",
    "    df = df.dropna()\n",
    "\n",
    "    # Normalize dates\n",
    "    df['date'] = pd.to_datetime(df['date']).dt.strftime('%Y-%m-%d')\n",
    "\n",
    "    return df\n",
    "\n",
    "# Main execution\n",
    "if __name__ == \"__main__\":\n",
    "    banks = {\n",
    "        \"CBE\": \"com.combanketh.mobilebanking\",\n",
    "        \"BOA\": \"com.boa.boaMobileBanking\",\n",
    "        \"Dashen\": \"com.dashen.dashensuperapp\"\n",
    "    }\n",
    "\n",
    "    for bank_name, app_id in banks.items():\n",
    "        filename = scrape_play_store_reviews(app_id, bank_name)\n",
    "        \n",
    "        \n",
    "        cleaned_data = preprocess_reviews(filename)\n",
    "        \n",
    "        cleaned_filename = os.path.join(DATA_DIR, f'cleaned_{bank_name}_reviews.csv')  # Save cleaned data in DATA_DIR\n",
    "        cleaned_data.to_csv(cleaned_filename, index=False)  # Save cleaned data\n",
    "        print(f\"✅ Cleaned data saved  {bank_name}: {len(cleaned_data)} records\")\n"
   ]
  },
  {
   "cell_type": "code",
   "execution_count": null,
   "id": "c88dfdcb-a255-489c-85fd-45246f192684",
   "metadata": {},
   "outputs": [],
   "source": []
  }
 ],
 "metadata": {
  "kernelspec": {
   "display_name": "Python 3 (ipykernel)",
   "language": "python",
   "name": "python3"
  },
  "language_info": {
   "codemirror_mode": {
    "name": "ipython",
    "version": 3
   },
   "file_extension": ".py",
   "mimetype": "text/x-python",
   "name": "python",
   "nbconvert_exporter": "python",
   "pygments_lexer": "ipython3",
   "version": "3.13.3"
  }
 },
 "nbformat": 4,
 "nbformat_minor": 5
}
