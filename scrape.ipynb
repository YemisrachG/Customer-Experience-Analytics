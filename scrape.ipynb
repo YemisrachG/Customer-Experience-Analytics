{
 "cells": [
  {
   "cell_type": "code",
   "execution_count": 1,
   "id": "c4ba1f7e-3f2b-420b-99e4-36234434d622",
   "metadata": {},
   "outputs": [
    {
     "ename": "AttributeError",
     "evalue": "'str' object has no attribute 'value'",
     "output_type": "error",
     "traceback": [
      "\u001b[31m---------------------------------------------------------------------------\u001b[39m",
      "\u001b[31mAttributeError\u001b[39m                            Traceback (most recent call last)",
      "\u001b[36mCell\u001b[39m\u001b[36m \u001b[39m\u001b[32mIn[1]\u001b[39m\u001b[32m, line 61\u001b[39m\n\u001b[32m     54\u001b[39m banks = {\n\u001b[32m     55\u001b[39m     \u001b[33m\"\u001b[39m\u001b[33mCBE\u001b[39m\u001b[33m\"\u001b[39m: \u001b[33m\"\u001b[39m\u001b[33mcom.combanketh.mobilebanking\u001b[39m\u001b[33m\"\u001b[39m,\n\u001b[32m     56\u001b[39m     \u001b[33m\"\u001b[39m\u001b[33mBOA\u001b[39m\u001b[33m\"\u001b[39m: \u001b[33m\"\u001b[39m\u001b[33mcom.boa.boaMobileBanking\u001b[39m\u001b[33m\"\u001b[39m,\n\u001b[32m     57\u001b[39m     \u001b[33m\"\u001b[39m\u001b[33mDashen\u001b[39m\u001b[33m\"\u001b[39m: \u001b[33m\"\u001b[39m\u001b[33mcom.dashen.dashensuperapp\u001b[39m\u001b[33m\"\u001b[39m\n\u001b[32m     58\u001b[39m }\n\u001b[32m     60\u001b[39m \u001b[38;5;28;01mfor\u001b[39;00m bank_name, app_id \u001b[38;5;129;01min\u001b[39;00m banks.items():\n\u001b[32m---> \u001b[39m\u001b[32m61\u001b[39m     filename = \u001b[43mscrape_play_store_reviews\u001b[49m\u001b[43m(\u001b[49m\u001b[43mapp_id\u001b[49m\u001b[43m,\u001b[49m\u001b[43m \u001b[49m\u001b[43mbank_name\u001b[49m\u001b[43m)\u001b[49m\n\u001b[32m     64\u001b[39m     cleaned_data = preprocess_reviews(filename)\n\u001b[32m     66\u001b[39m     cleaned_filename = os.path.join(DATA_DIR, \u001b[33mf\u001b[39m\u001b[33m'\u001b[39m\u001b[33mcleaned_\u001b[39m\u001b[38;5;132;01m{\u001b[39;00mbank_name\u001b[38;5;132;01m}\u001b[39;00m\u001b[33m_reviews.csv\u001b[39m\u001b[33m'\u001b[39m)  \u001b[38;5;66;03m# Save cleaned data in DATA_DIR\u001b[39;00m\n",
      "\u001b[36mCell\u001b[39m\u001b[36m \u001b[39m\u001b[32mIn[1]\u001b[39m\u001b[32m, line 11\u001b[39m, in \u001b[36mscrape_play_store_reviews\u001b[39m\u001b[34m(app_id, bank_name)\u001b[39m\n\u001b[32m     10\u001b[39m \u001b[38;5;28;01mdef\u001b[39;00m\u001b[38;5;250m \u001b[39m\u001b[34mscrape_play_store_reviews\u001b[39m(app_id, bank_name):\n\u001b[32m---> \u001b[39m\u001b[32m11\u001b[39m     results, _ = \u001b[43mreviews\u001b[49m\u001b[43m(\u001b[49m\n\u001b[32m     12\u001b[39m \u001b[43m        \u001b[49m\u001b[43mapp_id\u001b[49m\u001b[43m,\u001b[49m\n\u001b[32m     13\u001b[39m \u001b[43m        \u001b[49m\u001b[43mlang\u001b[49m\u001b[43m=\u001b[49m\u001b[33;43m'\u001b[39;49m\u001b[33;43men\u001b[39;49m\u001b[33;43m'\u001b[39;49m\u001b[43m,\u001b[49m\n\u001b[32m     14\u001b[39m \u001b[43m        \u001b[49m\u001b[43mcountry\u001b[49m\u001b[43m=\u001b[49m\u001b[33;43m'\u001b[39;49m\u001b[33;43mus\u001b[39;49m\u001b[33;43m'\u001b[39;49m\u001b[43m,\u001b[49m\n\u001b[32m     15\u001b[39m \u001b[43m        \u001b[49m\u001b[43msort\u001b[49m\u001b[43m=\u001b[49m\u001b[33;43m'\u001b[39;49m\u001b[33;43mNEWEST\u001b[39;49m\u001b[33;43m'\u001b[39;49m\u001b[43m,\u001b[49m\n\u001b[32m     16\u001b[39m \u001b[43m        \u001b[49m\u001b[43mcount\u001b[49m\u001b[43m=\u001b[49m\u001b[32;43m400\u001b[39;49m\n\u001b[32m     17\u001b[39m \u001b[43m    \u001b[49m\u001b[43m)\u001b[49m\n\u001b[32m     19\u001b[39m     timestamp = datetime.now().strftime(\u001b[33m'\u001b[39m\u001b[33m%\u001b[39m\u001b[33mY\u001b[39m\u001b[33m%\u001b[39m\u001b[33mm\u001b[39m\u001b[38;5;132;01m%d\u001b[39;00m\u001b[33m_\u001b[39m\u001b[33m%\u001b[39m\u001b[33mH\u001b[39m\u001b[33m%\u001b[39m\u001b[33mM\u001b[39m\u001b[33m%\u001b[39m\u001b[33mS\u001b[39m\u001b[33m'\u001b[39m)\n\u001b[32m     20\u001b[39m     filename = os.path.join(DATA_DIR, \u001b[33mf\u001b[39m\u001b[33m'\u001b[39m\u001b[38;5;132;01m{\u001b[39;00mbank_name\u001b[38;5;132;01m}\u001b[39;00m\u001b[33m_reviews_\u001b[39m\u001b[38;5;132;01m{\u001b[39;00mtimestamp\u001b[38;5;132;01m}\u001b[39;00m\u001b[33m.csv\u001b[39m\u001b[33m'\u001b[39m)\n",
      "\u001b[36mFile \u001b[39m\u001b[32mC:\\Wk 2 Mobile Banking App Review Analysis\\Customer-Experience-Analytics\\venv\\Lib\\site-packages\\google_play_scraper\\features\\reviews.py:80\u001b[39m, in \u001b[36mreviews\u001b[39m\u001b[34m(app_id, lang, country, sort, count, filter_score_with, filter_device_with, continuation_token)\u001b[39m\n\u001b[32m     70\u001b[39m \u001b[38;5;28;01mdef\u001b[39;00m\u001b[38;5;250m \u001b[39m\u001b[34mreviews\u001b[39m(\n\u001b[32m     71\u001b[39m     app_id: \u001b[38;5;28mstr\u001b[39m,\n\u001b[32m     72\u001b[39m     lang: \u001b[38;5;28mstr\u001b[39m = \u001b[33m\"\u001b[39m\u001b[33men\u001b[39m\u001b[33m\"\u001b[39m,\n\u001b[32m   (...)\u001b[39m\u001b[32m     78\u001b[39m     continuation_token: _ContinuationToken = \u001b[38;5;28;01mNone\u001b[39;00m,\n\u001b[32m     79\u001b[39m ) -> Tuple[List[\u001b[38;5;28mdict\u001b[39m], _ContinuationToken]:\n\u001b[32m---> \u001b[39m\u001b[32m80\u001b[39m     sort = \u001b[43msort\u001b[49m\u001b[43m.\u001b[49m\u001b[43mvalue\u001b[49m\n\u001b[32m     82\u001b[39m     \u001b[38;5;28;01mif\u001b[39;00m continuation_token \u001b[38;5;129;01mis\u001b[39;00m \u001b[38;5;129;01mnot\u001b[39;00m \u001b[38;5;28;01mNone\u001b[39;00m:\n\u001b[32m     83\u001b[39m         token = continuation_token.token\n",
      "\u001b[31mAttributeError\u001b[39m: 'str' object has no attribute 'value'"
     ]
    }
   ],
   "source": [
    "import csv\n",
    "from datetime import datetime\n",
    "from google_play_scraper import reviews\n",
    "import os\n",
    "import pandas as pd\n",
    "\n",
    "os.chdir(r\"C:\\Wk 2 Mobile Banking App Review Analysis\\Customer-Experience-Analytics\")\n",
    "DATA_DIR = 'notebooks/data'\n",
    "\n",
    "def scrape_play_store_reviews(app_id, bank_name):\n",
    "    results, _ = reviews(\n",
    "        app_id,\n",
    "        lang='en',\n",
    "        country='us',\n",
    "        sort='NEWEST',\n",
    "        count=400\n",
    "    )\n",
    "\n",
    "    timestamp = datetime.now().strftime('%Y%m%d_%H%M%S')\n",
    "    filename = os.path.join(DATA_DIR, f'{bank_name}_reviews_{timestamp}.csv')\n",
    "\n",
    "    with open(filename, mode='w', newline='', encoding='utf-8') as file:\n",
    "        writer = csv.DictWriter(file, fieldnames=['review_text', 'rating', 'date', 'bank_name', 'source'])\n",
    "        writer.writeheader()\n",
    "\n",
    "        for entry in results:\n",
    "            writer.writerow({\n",
    "                'review_text': entry['content'],\n",
    "                'rating': entry['score'],\n",
    "                'date': entry['at'].strftime('%Y-%m-%d'),\n",
    "                'bank_name': bank_name,\n",
    "                'source': 'Google Play'\n",
    "            })\n",
    "\n",
    "    print(f\"✅ stored {len(results)} reviews to {filename}\")\n",
    "    return filename  \n",
    "\n",
    "def preprocess_reviews(file_path):\n",
    "    df = pd.read_csv(file_path)\n",
    "\n",
    "    # Remove duplicates\n",
    "    df = df.drop_duplicates(subset=['review_text'])\n",
    "\n",
    "    # Handle missing data\n",
    "    df = df.dropna()\n",
    "\n",
    "    # Normalize dates\n",
    "    df['date'] = pd.to_datetime(df['date']).dt.strftime('%Y-%m-%d')\n",
    "\n",
    "    return df\n",
    "\n",
    "# Main execution\n",
    "if __name__ == \"__main__\":\n",
    "    banks = {\n",
    "        \"CBE\": \"com.combanketh.mobilebanking\",\n",
    "        \"BOA\": \"com.boa.boaMobileBanking\",\n",
    "        \"Dashen\": \"com.dashen.dashensuperapp\"\n",
    "    }\n",
    "\n",
    "    for bank_name, app_id in banks.items():\n",
    "        filename = scrape_play_store_reviews(app_id, bank_name)\n",
    "        \n",
    "        \n",
    "        cleaned_data = preprocess_reviews(filename)\n",
    "        \n",
    "        cleaned_filename = os.path.join(DATA_DIR, f'cleaned_{bank_name}_reviews.csv')  # Save cleaned data in DATA_DIR\n",
    "        cleaned_data.to_csv(cleaned_filename, index=False)  # Save cleaned data\n",
    "        print(f\"✅ Cleaned data saved  {bank_name}: {len(cleaned_data)} records\")\n"
   ]
  },
  {
   "cell_type": "code",
   "execution_count": null,
   "id": "edbd6b2f-6d17-480a-a659-21584707b95d",
   "metadata": {},
   "outputs": [],
   "source": []
  }
 ],
 "metadata": {
  "kernelspec": {
   "display_name": "Python 3 (ipykernel)",
   "language": "python",
   "name": "python3"
  },
  "language_info": {
   "codemirror_mode": {
    "name": "ipython",
    "version": 3
   },
   "file_extension": ".py",
   "mimetype": "text/x-python",
   "name": "python",
   "nbconvert_exporter": "python",
   "pygments_lexer": "ipython3",
   "version": "3.13.3"
  }
 },
 "nbformat": 4,
 "nbformat_minor": 5
}
