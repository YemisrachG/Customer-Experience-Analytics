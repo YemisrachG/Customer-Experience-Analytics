{
 "cells": [
  {
   "cell_type": "code",
   "execution_count": 3,
   "id": "23a6b47a-80df-4f2c-8902-6f2938e622b0",
   "metadata": {},
   "outputs": [
    {
     "name": "stdout",
     "output_type": "stream",
     "text": [
      "data stored to  oracledatabase successfully\n"
     ]
    }
   ],
   "source": [
    "import oracledb\n",
    "import pandas as pd\n",
    "import os\n",
    "import sys\n",
    "import warnings\n",
    "\n",
    "# Suppress warnings\n",
    "warnings.filterwarnings(\"ignore\")\n",
    "\n",
    "# Set working directory\n",
    "os.chdir(r\"C:\\Wk 2 Mobile Banking App Review Analysis\\Customer-Experience-Analytics\")\n",
    "sys.path.append(os.getcwd())\n",
    "\n",
    "# Database connection details\n",
    "hostname = 'localhost'\n",
    "port = 1521\n",
    "sid = 'bankreviews'\n",
    "username = 'SYSTEM'\n",
    "password = 'Opass#25'\n",
    "dsn = oracledb.makedsn(hostname, port, sid=sid)\n",
    "\n",
    "# Establish connection to Oracle Database\n",
    "connection = oracledb.connect(user=username, password=password, dsn=dsn)\n",
    "\n",
    "# Create a cursor object\n",
    "cursor = connection.cursor()\n",
    "\n",
    "# File paths for each bank's processed reviews\n",
    "banks = {\n",
    "    \"CBE\": \"notebooks/data/processed_reviews_CBE.csv\",\n",
    "    \"BOA\": \"notebooks/data/processed_reviews_BOA.csv\",\n",
    "    \"Dashen\": \"notebooks/data/processed_reviews_Dashen.csv\"\n",
    "}\n",
    "\n",
    "# Initialize an empty DataFrame to combine reviews\n",
    "combined_reviews = pd.DataFrame()\n",
    "\n",
    "# Load and combine reviews from CSV files\n",
    "for bank, path in banks.items():\n",
    "    bank_df = pd.read_csv(path)\n",
    "    combined_reviews = pd.concat([combined_reviews, bank_df], ignore_index=True)\n",
    "\n",
    "# Convert 'date' column to datetime format\n",
    "combined_reviews['date'] = pd.to_datetime(combined_reviews['date'], errors='coerce')\n",
    "\n",
    "# Ensure 'processed_review' column is filled and in the correct type\n",
    "if 'processed_review' not in combined_reviews.columns or combined_reviews['processed_review'].isnull().any():\n",
    "    combined_reviews['processed_review'] = combined_reviews['processed_review'].fillna('')\n",
    "\n",
    "combined_reviews['processed_review'] = combined_reviews['processed_review'].astype(str)\n",
    "\n",
    "# Insert combined reviews into the database\n",
    "for index, row in combined_reviews.iterrows():\n",
    "    cursor.execute(\"\"\"\n",
    "        INSERT INTO reviews (review_text, rating, review_date, bank_name, source, processed_review, sentiment_score, sentiment)\n",
    "        VALUES (:1, :2, :3, :4, :5, :6, :7, :8)\n",
    "    \"\"\", (row['review_text'], row['rating'], row['date'], row['bank_name'], row['source'], row['processed_review'], row['sentiment_score'], row['sentiment']))\n",
    "\n",
    "# Commit the transaction\n",
    "print(\"data stored to  oracledatabase successfully\")\n",
    "connection.commit()\n",
    "\n",
    "# Close cursor and connection\n",
    "cursor.close()\n",
    "connection.close()\n",
    "\n",
    "\n",
    "\n"
   ]
  },
  {
   "cell_type": "code",
   "execution_count": null,
   "id": "cd410868-9f11-4053-8d1a-df5260dec811",
   "metadata": {},
   "outputs": [],
   "source": []
  }
 ],
 "metadata": {
  "kernelspec": {
   "display_name": "Python 3 (ipykernel)",
   "language": "python",
   "name": "python3"
  },
  "language_info": {
   "codemirror_mode": {
    "name": "ipython",
    "version": 3
   },
   "file_extension": ".py",
   "mimetype": "text/x-python",
   "name": "python",
   "nbconvert_exporter": "python",
   "pygments_lexer": "ipython3",
   "version": "3.13.3"
  }
 },
 "nbformat": 4,
 "nbformat_minor": 5
}
